{
 "cells": [
  {
   "attachments": {},
   "cell_type": "markdown",
   "id": "616eacbe",
   "metadata": {},
   "source": [
    "### Anatomy registration to ephys \n",
    "#### This code is designed to guide you through registering an anatmap and applying those channel locations to the data We assume that by now, you have registered the brain to the atlas, traced the tracks and put them into the correct folder in histology, with the correct name format. \n",
    "\n",
    "#### now, you need to run this code in \"iblenv\". executing the first cell will allow you to call a desired anatmap and will format the data correctly for the IBL gui to use. This formatting takes substantial time. \n"
   ]
  },
  {
   "cell_type": "code",
   "execution_count": 21,
   "id": "0da624da",
   "metadata": {},
   "outputs": [
    {
     "name": "stdout",
     "output_type": "stream",
     "text": [
      "\\\\zinu.cortexlab.net\\Subjects\\AV015\\2022-06-30\\ephys\\AV015_2022-06-30_SpontaneousPart1_g0\\AV015_2022-06-30_SpontaneousPart1_g0_imec0\n",
      "success in saving xyz_picks from track.\n",
      "\\\\zinu.cortexlab.net\\Subjects\\AV015\\2022-06-30\\ephys\\AV015_2022-06-30_SpontaneousPart1_g0\\AV015_2022-06-30_SpontaneousPart1_g0_imec1\n",
      "success in saving xyz_picks from track.\n",
      "\\\\zinu.cortexlab.net\\Subjects\\AV015\\2022-07-01\\ephys\\AV015_2022-07-01_Spontaneous1_g0\\AV015_2022-07-01_Spontaneous1_g0_imec0\n",
      "success in saving xyz_picks from track.\n",
      "\\\\zinu.cortexlab.net\\Subjects\\AV015\\2022-07-01\\ephys\\AV015_2022-07-01_Spontaneous1_g0\\AV015_2022-07-01_Spontaneous1_g0_imec1\n",
      "success in saving xyz_picks from track.\n",
      "\\\\zinu.cortexlab.net\\Subjects\\AV015\\2022-06-30\\ephys\\AV015_2022-06-30_SpontaneousPart2_g0\\AV015_2022-06-30_SpontaneousPart2_g0_imec0\n",
      "success in saving xyz_picks from track.\n",
      "\\\\zinu.cortexlab.net\\Subjects\\AV015\\2022-06-30\\ephys\\AV015_2022-06-30_SpontaneousPart2_g0\\AV015_2022-06-30_SpontaneousPart2_g0_imec1\n",
      "success in saving xyz_picks from track.\n",
      "\\\\zinu.cortexlab.net\\Subjects\\AV015\\2022-07-01\\ephys\\AV015_2022-07-01_Spontaneous2_g0\\AV015_2022-07-01_Spontaneous2_g0_imec0\n",
      "success in saving xyz_picks from track.\n",
      "\\\\zinu.cortexlab.net\\Subjects\\AV015\\2022-07-01\\ephys\\AV015_2022-07-01_Spontaneous2_g0\\AV015_2022-07-01_Spontaneous2_g0_imec1\n",
      "success in saving xyz_picks from track.\n",
      "\\\\zinu.cortexlab.net\\Subjects\\AV015\\2022-06-30\\ephys\\AV015_2022-06-30_SpontaneousPart3_g0\\AV015_2022-06-30_SpontaneousPart3_g0_imec0\n",
      "success in saving xyz_picks from track.\n",
      "\\\\zinu.cortexlab.net\\Subjects\\AV015\\2022-06-30\\ephys\\AV015_2022-06-30_SpontaneousPart3_g0\\AV015_2022-06-30_SpontaneousPart3_g0_imec1\n",
      "success in saving xyz_picks from track.\n",
      "\\\\zinu.cortexlab.net\\Subjects\\AV015\\2022-07-01\\ephys\\AV015_2022-07-01_Spontaneous3_g0\\AV015_2022-07-01_Spontaneous3_g0_imec0\n",
      "success in saving xyz_picks from track.\n",
      "\\\\zinu.cortexlab.net\\Subjects\\AV015\\2022-07-01\\ephys\\AV015_2022-07-01_Spontaneous3_g0\\AV015_2022-07-01_Spontaneous3_g0_imec1\n",
      "success in saving xyz_picks from track.\n",
      "\\\\zinu.cortexlab.net\\Subjects\\AV015\\2022-06-30\\ephys\\AV015_2022-06-30_SpontaneousPart4_g0\\AV015_2022-06-30_SpontaneousPart4_g0_imec0\n",
      "success in saving xyz_picks from track.\n",
      "\\\\zinu.cortexlab.net\\Subjects\\AV015\\2022-06-30\\ephys\\AV015_2022-06-30_SpontaneousPart4_g0\\AV015_2022-06-30_SpontaneousPart4_g0_imec1\n",
      "success in saving xyz_picks from track.\n",
      "\\\\zinu.cortexlab.net\\Subjects\\AV015\\2022-07-01\\ephys\\AV015_2022-07-01_Spontaneous4_g0\\AV015_2022-07-01_Spontaneous4_g0_imec0\n",
      "success in saving xyz_picks from track.\n",
      "\\\\zinu.cortexlab.net\\Subjects\\AV015\\2022-07-01\\ephys\\AV015_2022-07-01_Spontaneous4_g0\\AV015_2022-07-01_Spontaneous4_g0_imec1\n",
      "success in saving xyz_picks from track.\n"
     ]
    }
   ],
   "source": [
    "# add a func to loop over SC recordings (selected somehow by Flora)\n",
    "import json,glob,sys,datetime\n",
    "import pandas as pd \n",
    "import numpy as np\n",
    "from pathlib import Path\n",
    "pinkRig_path= glob.glob(r'C:\\Users\\*\\Documents\\Github\\PinkRigs')\n",
    "pinkRig_path = Path(pinkRig_path[0])\n",
    "sys.path.insert(0, (pinkRig_path.__str__()))\n",
    "from Processing.pykilo.convert_to_ibl_format import add_anat_to_ibl_format\n",
    "from Admin.csv_queryExp import queryCSV\n",
    "from Processing.pyhist.assign_clusters_to_atlas import call_for_anatmap_recordings,save_out_cluster_location,save_to_common_anatmap\n",
    "#session_list = pd.read_csv(prPath / 'Helpers/sc_selected_recordings.csv')\n",
    "#session_list = queryCSV(subject='FT009',expDate='2021-01-20',expDef='sparseNoise',checkSpikes='1')\n",
    "probe = 'probe1'\n",
    "session_list = call_for_anatmap_recordings(subject='AV015',checkSpikes='1',probe=probe,depth_selection='auto') \n",
    "for _,r in session_list.iterrows():\n",
    "    # read corresponding ephys files \n",
    "    corresponding_ephys_json= list((Path(r.expFolder)).glob('ONE_preproc\\probe*\\_av_rawephys.path*.json'))\n",
    "    for rec_path in corresponding_ephys_json: \n",
    "            # open json to get the actual path\n",
    "            rec = open(rec_path,)\n",
    "            rec = json.load(rec)\n",
    "            rec = Path(rec)\n",
    "            print(rec.parents[2])\n",
    "            s=add_anat_to_ibl_format(rec.parents[2],recompute=False)\n"
   ]
  },
  {
   "attachments": {},
   "cell_type": "markdown",
   "id": "78b99187",
   "metadata": {},
   "source": [
    "### Good job. Now you are ready to use the gui. Print session_list with the below cell and register all your recordings to ephys!\n",
    "#### cheat to gui:\n",
    "###### conda activate iblenv\n",
    "###### cd C:\\Users\\Flora\\Documents\\Github\\int-brain-lab\\iblapps\\atlaselectrophysiology\n",
    "###### python ephys_atlas_gui.py -o True\n",
    "\n",
    "#### tip: if you don't know which ones you have done already, proceed to the next cell and come back."
   ]
  },
  {
   "cell_type": "code",
   "execution_count": 22,
   "id": "c9af77e8",
   "metadata": {},
   "outputs": [
    {
     "data": {
      "text/plain": [
       "['\\\\\\\\zinu.cortexlab.net\\\\Subjects\\\\AV015\\\\2022-06-30\\\\ephys\\\\AV015_2022-06-30_SpontaneousPart1_g0\\\\AV015_2022-06-30_SpontaneousPart1_g0_imec0',\n",
       " '\\\\\\\\zinu.cortexlab.net\\\\Subjects\\\\AV015\\\\2022-07-01\\\\ephys\\\\AV015_2022-07-01_Spontaneous1_g0\\\\AV015_2022-07-01_Spontaneous1_g0_imec0',\n",
       " '\\\\\\\\zinu.cortexlab.net\\\\Subjects\\\\AV015\\\\2022-06-30\\\\ephys\\\\AV015_2022-06-30_SpontaneousPart2_g0\\\\AV015_2022-06-30_SpontaneousPart2_g0_imec0',\n",
       " '\\\\\\\\zinu.cortexlab.net\\\\Subjects\\\\AV015\\\\2022-07-01\\\\ephys\\\\AV015_2022-07-01_Spontaneous2_g0\\\\AV015_2022-07-01_Spontaneous2_g0_imec0',\n",
       " '\\\\\\\\zinu.cortexlab.net\\\\Subjects\\\\AV015\\\\2022-06-30\\\\ephys\\\\AV015_2022-06-30_SpontaneousPart3_g0\\\\AV015_2022-06-30_SpontaneousPart3_g0_imec0',\n",
       " '\\\\\\\\zinu.cortexlab.net\\\\Subjects\\\\AV015\\\\2022-07-01\\\\ephys\\\\AV015_2022-07-01_Spontaneous3_g0\\\\AV015_2022-07-01_Spontaneous3_g0_imec0',\n",
       " '\\\\\\\\zinu.cortexlab.net\\\\Subjects\\\\AV015\\\\2022-06-30\\\\ephys\\\\AV015_2022-06-30_SpontaneousPart4_g0\\\\AV015_2022-06-30_SpontaneousPart4_g0_imec0',\n",
       " '\\\\\\\\zinu.cortexlab.net\\\\Subjects\\\\AV015\\\\2022-07-01\\\\ephys\\\\AV015_2022-07-01_Spontaneous4_g0\\\\AV015_2022-07-01_Spontaneous4_g0_imec0']"
      ]
     },
     "execution_count": 22,
     "metadata": {},
     "output_type": "execute_result"
    }
   ],
   "source": [
    "list(session_list.ephysPathProbe0)\n"
   ]
  },
  {
   "attachments": {},
   "cell_type": "markdown",
   "id": "3815ddae",
   "metadata": {},
   "source": [
    "### Done? Was it tedious...? Well, the hard part is over. Now just run the below code, such that we save a rough channel map "
   ]
  },
  {
   "cell_type": "code",
   "execution_count": 23,
   "id": "c5c95550",
   "metadata": {},
   "outputs": [
    {
     "name": "stdout",
     "output_type": "stream",
     "text": [
      "\\\\zinu.cortexlab.net\\Subjects\\AV015\\2022-06-30\\3\\ONE_preproc\\probe1\n",
      "\\\\zinu.cortexlab.net\\Subjects\\AV015\\2022-07-01\\3\\ONE_preproc\\probe1\n",
      "\\\\zinu.cortexlab.net\\Subjects\\AV015\\2022-06-30\\4\\ONE_preproc\\probe1\n",
      "\\\\zinu.cortexlab.net\\Subjects\\AV015\\2022-07-01\\4\\ONE_preproc\\probe1\n",
      "\\\\zinu.cortexlab.net\\Subjects\\AV015\\2022-06-30\\5\\ONE_preproc\\probe1\n",
      "\\\\zinu.cortexlab.net\\Subjects\\AV015\\2022-07-01\\5\\ONE_preproc\\probe1\n",
      "\\\\zinu.cortexlab.net\\Subjects\\AV015\\2022-06-30\\6\\ONE_preproc\\probe1\n",
      "\\\\zinu.cortexlab.net\\Subjects\\AV015\\2022-07-01\\6\\ONE_preproc\\probe1\n"
     ]
    }
   ],
   "source": [
    "last_date = np.max(session_list.expDate.values)\n",
    "for _,r in session_list.iterrows():\n",
    "    one_path = Path(r.expFolder)  / 'ONE_preproc' / probe\n",
    "    save_out_cluster_location(one_path) # for the recordings in question\n",
    "    save_to_common_anatmap(one_path,probe,r.shank,r.botrow,last_date)"
   ]
  },
  {
   "attachments": {},
   "cell_type": "markdown",
   "id": "e07d0687",
   "metadata": {},
   "source": [
    "## now we apply the contstructed anatmaps for the rest of the data "
   ]
  },
  {
   "cell_type": "code",
   "execution_count": 25,
   "id": "44d3c60a",
   "metadata": {},
   "outputs": [
    {
     "name": "stdout",
     "output_type": "stream",
     "text": [
      "\\\\zinu.cortexlab.net\\Subjects\\AV015\\2022-06-30\\1\\ONE_preproc\\probe1\n",
      "\\\\zinu.cortexlab.net\\Subjects\\AV015\\2022-06-30\\2\\ONE_preproc\\probe1\n",
      "\\\\zinu.cortexlab.net\\Subjects\\AV015\\2022-06-30\\3\\ONE_preproc\\probe1\n",
      "\\\\zinu.cortexlab.net\\Subjects\\AV015\\2022-06-30\\4\\ONE_preproc\\probe1\n",
      "\\\\zinu.cortexlab.net\\Subjects\\AV015\\2022-06-30\\5\\ONE_preproc\\probe1\n",
      "\\\\zinu.cortexlab.net\\Subjects\\AV015\\2022-06-30\\6\\ONE_preproc\\probe1\n",
      "\\\\zinu.cortexlab.net\\Subjects\\AV015\\2022-07-01\\1\\ONE_preproc\\probe1\n",
      "\\\\zinu.cortexlab.net\\Subjects\\AV015\\2022-07-01\\2\\ONE_preproc\\probe1\n",
      "\\\\zinu.cortexlab.net\\Subjects\\AV015\\2022-07-01\\3\\ONE_preproc\\probe1\n",
      "\\\\zinu.cortexlab.net\\Subjects\\AV015\\2022-07-01\\4\\ONE_preproc\\probe1\n",
      "\\\\zinu.cortexlab.net\\Subjects\\AV015\\2022-07-01\\5\\ONE_preproc\\probe1\n",
      "\\\\zinu.cortexlab.net\\Subjects\\AV015\\2022-07-01\\6\\ONE_preproc\\probe1\n",
      "\\\\zinu.cortexlab.net\\Subjects\\AV015\\2022-07-04\\1\\ONE_preproc\\probe1\n",
      "\\\\zinu.cortexlab.net\\Subjects\\AV015\\2022-07-04\\2\\ONE_preproc\\probe1\n",
      "\\\\zinu.cortexlab.net\\Subjects\\AV015\\2022-07-04\\3\\ONE_preproc\\probe1\n",
      "\\\\zinu.cortexlab.net\\Subjects\\AV015\\2022-07-04\\4\\ONE_preproc\\probe1\n",
      "\\\\zinu.cortexlab.net\\Subjects\\AV015\\2022-07-04\\5\\ONE_preproc\\probe1\n",
      "\\\\zinu.cortexlab.net\\Subjects\\AV015\\2022-07-04\\6\\ONE_preproc\\probe1\n",
      "\\\\zinu.cortexlab.net\\Subjects\\AV015\\2022-07-05\\1\\ONE_preproc\\probe1\n",
      "\\\\zinu.cortexlab.net\\Subjects\\AV015\\2022-07-05\\2\\ONE_preproc\\probe1\n",
      "\\\\zinu.cortexlab.net\\Subjects\\AV015\\2022-07-05\\3\\ONE_preproc\\probe1\n",
      "\\\\zinu.cortexlab.net\\Subjects\\AV015\\2022-07-05\\4\\ONE_preproc\\probe1\n",
      "\\\\zinu.cortexlab.net\\Subjects\\AV015\\2022-07-05\\5\\ONE_preproc\\probe1\n",
      "\\\\zinu.cortexlab.net\\Subjects\\AV015\\2022-07-05\\6\\ONE_preproc\\probe1\n",
      "\\\\zinu.cortexlab.net\\Subjects\\AV015\\2022-07-06\\4\\ONE_preproc\\probe1\n",
      "\\\\zinu.cortexlab.net\\Subjects\\AV015\\2022-07-06\\5\\ONE_preproc\\probe1\n",
      "\\\\zinu.cortexlab.net\\Subjects\\AV015\\2022-07-06\\6\\ONE_preproc\\probe1\n",
      "\\\\zinu.cortexlab.net\\Subjects\\AV015\\2022-07-06\\7\\ONE_preproc\\probe1\n",
      "\\\\zinu.cortexlab.net\\Subjects\\AV015\\2022-07-06\\8\\ONE_preproc\\probe1\n",
      "\\\\zinu.cortexlab.net\\Subjects\\AV015\\2022-07-06\\9\\ONE_preproc\\probe1\n",
      "\\\\zinu.cortexlab.net\\Subjects\\AV015\\2022-07-07\\1\\ONE_preproc\\probe1\n",
      "\\\\zinu.cortexlab.net\\Subjects\\AV015\\2022-07-07\\2\\ONE_preproc\\probe1\n",
      "\\\\zinu.cortexlab.net\\Subjects\\AV015\\2022-07-07\\3\\ONE_preproc\\probe1\n",
      "\\\\zinu.cortexlab.net\\Subjects\\AV015\\2022-07-07\\5\\ONE_preproc\\probe1\n",
      "\\\\zinu.cortexlab.net\\Subjects\\AV015\\2022-07-07\\6\\ONE_preproc\\probe1\n",
      "\\\\zinu.cortexlab.net\\Subjects\\AV015\\2022-07-07\\7\\ONE_preproc\\probe1\n",
      "\\\\zinu.cortexlab.net\\Subjects\\AV015\\2022-07-08\\5\\ONE_preproc\\probe1\n",
      "\\\\zinu.cortexlab.net\\Subjects\\AV015\\2022-07-08\\6\\ONE_preproc\\probe1\n",
      "\\\\zinu.cortexlab.net\\Subjects\\AV015\\2022-07-08\\7\\ONE_preproc\\probe1\n",
      "\\\\zinu.cortexlab.net\\Subjects\\AV015\\2022-07-08\\8\\ONE_preproc\\probe1\n",
      "\\\\zinu.cortexlab.net\\Subjects\\AV015\\2022-07-08\\9\\ONE_preproc\\probe1\n",
      "\\\\zinu.cortexlab.net\\Subjects\\AV015\\2022-07-08\\10\\ONE_preproc\\probe1\n",
      "\\\\zinu.cortexlab.net\\Subjects\\AV015\\2022-07-11\\1\\ONE_preproc\\probe1\n",
      "\\\\zinu.cortexlab.net\\Subjects\\AV015\\2022-07-11\\2\\ONE_preproc\\probe1\n",
      "\\\\zinu.cortexlab.net\\Subjects\\AV015\\2022-07-11\\3\\ONE_preproc\\probe1\n",
      "\\\\zinu.cortexlab.net\\Subjects\\AV015\\2022-07-11\\4\\ONE_preproc\\probe1\n",
      "\\\\zinu.cortexlab.net\\Subjects\\AV015\\2022-07-11\\5\\ONE_preproc\\probe1\n",
      "\\\\zinu.cortexlab.net\\Subjects\\AV015\\2022-07-11\\6\\ONE_preproc\\probe1\n",
      "\\\\zinu.cortexlab.net\\Subjects\\AV015\\2022-07-12\\1\\ONE_preproc\\probe1\n",
      "\\\\zinu.cortexlab.net\\Subjects\\AV015\\2022-07-12\\2\\ONE_preproc\\probe1\n",
      "\\\\zinu.cortexlab.net\\Subjects\\AV015\\2022-07-12\\3\\ONE_preproc\\probe1\n",
      "\\\\zinu.cortexlab.net\\Subjects\\AV015\\2022-07-12\\4\\ONE_preproc\\probe1\n",
      "\\\\zinu.cortexlab.net\\Subjects\\AV015\\2022-07-12\\5\\ONE_preproc\\probe1\n",
      "\\\\zinu.cortexlab.net\\Subjects\\AV015\\2022-07-12\\6\\ONE_preproc\\probe1\n",
      "\\\\zinu.cortexlab.net\\Subjects\\AV015\\2022-07-13\\1\\ONE_preproc\\probe1\n",
      "\\\\zinu.cortexlab.net\\Subjects\\AV015\\2022-07-13\\2\\ONE_preproc\\probe1\n",
      "\\\\zinu.cortexlab.net\\Subjects\\AV015\\2022-07-13\\3\\ONE_preproc\\probe1\n",
      "\\\\zinu.cortexlab.net\\Subjects\\AV015\\2022-07-13\\4\\ONE_preproc\\probe1\n",
      "\\\\zinu.cortexlab.net\\Subjects\\AV015\\2022-07-13\\5\\ONE_preproc\\probe1\n",
      "\\\\zinu.cortexlab.net\\Subjects\\AV015\\2022-07-13\\7\\ONE_preproc\\probe1\n",
      "\\\\zinu.cortexlab.net\\Subjects\\AV015\\2022-07-13\\8\\ONE_preproc\\probe1\n",
      "\\\\zinu.cortexlab.net\\Subjects\\AV015\\2022-07-14\\1\\ONE_preproc\\probe1\n",
      "\\\\zinu.cortexlab.net\\Subjects\\AV015\\2022-07-14\\2\\ONE_preproc\\probe1\n",
      "\\\\zinu.cortexlab.net\\Subjects\\AV015\\2022-07-14\\3\\ONE_preproc\\probe1\n",
      "\\\\zinu.cortexlab.net\\Subjects\\AV015\\2022-07-14\\4\\ONE_preproc\\probe1\n",
      "\\\\zinu.cortexlab.net\\Subjects\\AV015\\2022-07-14\\5\\ONE_preproc\\probe1\n",
      "\\\\zinu.cortexlab.net\\Subjects\\AV015\\2022-07-14\\6\\ONE_preproc\\probe1\n",
      "\\\\zaru.cortexlab.net\\Subjects\\AV015\\2022-07-15\\1\\ONE_preproc\\probe1\n",
      "\\\\zaru.cortexlab.net\\Subjects\\AV015\\2022-07-15\\2\\ONE_preproc\\probe1\n",
      "\\\\zaru.cortexlab.net\\Subjects\\AV015\\2022-07-15\\3\\ONE_preproc\\probe1\n",
      "\\\\zaru.cortexlab.net\\Subjects\\AV015\\2022-07-15\\4\\ONE_preproc\\probe1\n",
      "\\\\zaru.cortexlab.net\\Subjects\\AV015\\2022-07-15\\5\\ONE_preproc\\probe1\n",
      "\\\\zaru.cortexlab.net\\Subjects\\AV015\\2022-07-15\\6\\ONE_preproc\\probe1\n",
      "\\\\zaru.cortexlab.net\\Subjects\\AV015\\2022-07-18\\3\\ONE_preproc\\probe1\n",
      "\\\\zaru.cortexlab.net\\Subjects\\AV015\\2022-07-18\\4\\ONE_preproc\\probe1\n",
      "\\\\zaru.cortexlab.net\\Subjects\\AV015\\2022-07-18\\5\\ONE_preproc\\probe1\n",
      "\\\\zaru.cortexlab.net\\Subjects\\AV015\\2022-07-18\\6\\ONE_preproc\\probe1\n",
      "\\\\zaru.cortexlab.net\\Subjects\\AV015\\2022-07-18\\7\\ONE_preproc\\probe1\n",
      "\\\\zaru.cortexlab.net\\Subjects\\AV015\\2022-07-18\\8\\ONE_preproc\\probe1\n",
      "\\\\zaru.cortexlab.net\\Subjects\\AV015\\2022-07-19\\1\\ONE_preproc\\probe1\n",
      "\\\\zaru.cortexlab.net\\Subjects\\AV015\\2022-07-19\\2\\ONE_preproc\\probe1\n",
      "\\\\zaru.cortexlab.net\\Subjects\\AV015\\2022-07-19\\4\\ONE_preproc\\probe1\n",
      "\\\\zaru.cortexlab.net\\Subjects\\AV015\\2022-07-19\\6\\ONE_preproc\\probe1\n",
      "\\\\zaru.cortexlab.net\\Subjects\\AV015\\2022-07-20\\1\\ONE_preproc\\probe1\n",
      "\\\\zaru.cortexlab.net\\Subjects\\AV015\\2022-07-20\\2\\ONE_preproc\\probe1\n",
      "\\\\zaru.cortexlab.net\\Subjects\\AV015\\2022-07-20\\3\\ONE_preproc\\probe1\n",
      "\\\\zaru.cortexlab.net\\Subjects\\AV015\\2022-07-20\\4\\ONE_preproc\\probe1\n",
      "\\\\zaru.cortexlab.net\\Subjects\\AV015\\2022-07-20\\5\\ONE_preproc\\probe1\n",
      "\\\\zaru.cortexlab.net\\Subjects\\AV015\\2022-07-20\\6\\ONE_preproc\\probe1\n",
      "\\\\zaru.cortexlab.net\\Subjects\\AV015\\2022-07-21\\1\\ONE_preproc\\probe1\n",
      "\\\\zaru.cortexlab.net\\Subjects\\AV015\\2022-07-21\\2\\ONE_preproc\\probe1\n",
      "\\\\zaru.cortexlab.net\\Subjects\\AV015\\2022-07-21\\3\\ONE_preproc\\probe1\n",
      "\\\\zaru.cortexlab.net\\Subjects\\AV015\\2022-07-21\\4\\ONE_preproc\\probe1\n",
      "\\\\zaru.cortexlab.net\\Subjects\\AV015\\2022-07-21\\5\\ONE_preproc\\probe1\n",
      "\\\\zaru.cortexlab.net\\Subjects\\AV015\\2022-07-21\\6\\ONE_preproc\\probe1\n",
      "\\\\zaru.cortexlab.net\\Subjects\\AV015\\2022-07-22\\1\\ONE_preproc\\probe1\n",
      "\\\\zaru.cortexlab.net\\Subjects\\AV015\\2022-07-22\\3\\ONE_preproc\\probe1\n",
      "\\\\zaru.cortexlab.net\\Subjects\\AV015\\2022-07-22\\4\\ONE_preproc\\probe1\n",
      "\\\\zaru.cortexlab.net\\Subjects\\AV015\\2022-07-22\\5\\ONE_preproc\\probe1\n",
      "\\\\zaru.cortexlab.net\\Subjects\\AV015\\2022-07-22\\6\\ONE_preproc\\probe1\n",
      "\\\\zaru.cortexlab.net\\Subjects\\AV015\\2022-07-25\\1\\ONE_preproc\\probe1\n",
      "\\\\zaru.cortexlab.net\\Subjects\\AV015\\2022-07-25\\2\\ONE_preproc\\probe1\n",
      "\\\\zaru.cortexlab.net\\Subjects\\AV015\\2022-07-25\\3\\ONE_preproc\\probe1\n",
      "\\\\zaru.cortexlab.net\\Subjects\\AV015\\2022-07-25\\4\\ONE_preproc\\probe1\n",
      "\\\\zaru.cortexlab.net\\Subjects\\AV015\\2022-07-25\\5\\ONE_preproc\\probe1\n",
      "\\\\zaru.cortexlab.net\\Subjects\\AV015\\2022-07-25\\7\\ONE_preproc\\probe1\n",
      "\\\\zaru.cortexlab.net\\Subjects\\AV015\\2022-07-26\\2\\ONE_preproc\\probe1\n",
      "\\\\zaru.cortexlab.net\\Subjects\\AV015\\2022-07-26\\3\\ONE_preproc\\probe1\n",
      "\\\\zaru.cortexlab.net\\Subjects\\AV015\\2022-07-26\\4\\ONE_preproc\\probe1\n",
      "\\\\zaru.cortexlab.net\\Subjects\\AV015\\2022-07-26\\5\\ONE_preproc\\probe1\n",
      "\\\\zaru.cortexlab.net\\Subjects\\AV015\\2022-07-26\\6\\ONE_preproc\\probe1\n",
      "\\\\zaru.cortexlab.net\\Subjects\\AV015\\2022-07-26\\7\\ONE_preproc\\probe1\n",
      "\\\\zaru.cortexlab.net\\Subjects\\AV015\\2022-07-27\\1\\ONE_preproc\\probe1\n",
      "\\\\zaru.cortexlab.net\\Subjects\\AV015\\2022-07-27\\2\\ONE_preproc\\probe1\n",
      "\\\\zaru.cortexlab.net\\Subjects\\AV015\\2022-07-27\\3\\ONE_preproc\\probe1\n",
      "\\\\zaru.cortexlab.net\\Subjects\\AV015\\2022-07-27\\4\\ONE_preproc\\probe1\n",
      "\\\\zaru.cortexlab.net\\Subjects\\AV015\\2022-07-27\\5\\ONE_preproc\\probe1\n",
      "\\\\zaru.cortexlab.net\\Subjects\\AV015\\2022-07-27\\6\\ONE_preproc\\probe1\n",
      "\\\\zaru.cortexlab.net\\Subjects\\AV015\\2022-07-27\\7\\ONE_preproc\\probe1\n",
      "\\\\zaru.cortexlab.net\\Subjects\\AV015\\2022-07-28\\1\\ONE_preproc\\probe1\n",
      "\\\\zaru.cortexlab.net\\Subjects\\AV015\\2022-07-28\\2\\ONE_preproc\\probe1\n",
      "\\\\zaru.cortexlab.net\\Subjects\\AV015\\2022-07-28\\3\\ONE_preproc\\probe1\n",
      "\\\\zaru.cortexlab.net\\Subjects\\AV015\\2022-07-28\\4\\ONE_preproc\\probe1\n",
      "\\\\zaru.cortexlab.net\\Subjects\\AV015\\2022-07-28\\5\\ONE_preproc\\probe1\n",
      "\\\\zaru.cortexlab.net\\Subjects\\AV015\\2022-07-28\\6\\ONE_preproc\\probe1\n",
      "\\\\zaru.cortexlab.net\\Subjects\\AV015\\2022-07-28\\7\\ONE_preproc\\probe1\n",
      "\\\\zaru.cortexlab.net\\Subjects\\AV015\\2022-07-29\\1\\ONE_preproc\\probe1\n",
      "\\\\zaru.cortexlab.net\\Subjects\\AV015\\2022-07-29\\2\\ONE_preproc\\probe1\n",
      "\\\\zaru.cortexlab.net\\Subjects\\AV015\\2022-07-29\\3\\ONE_preproc\\probe1\n",
      "\\\\zaru.cortexlab.net\\Subjects\\AV015\\2022-07-29\\4\\ONE_preproc\\probe1\n",
      "\\\\zaru.cortexlab.net\\Subjects\\AV015\\2022-07-29\\5\\ONE_preproc\\probe1\n",
      "\\\\zaru.cortexlab.net\\Subjects\\AV015\\2022-07-29\\6\\ONE_preproc\\probe1\n",
      "\\\\zaru.cortexlab.net\\Subjects\\AV015\\2022-08-01\\1\\ONE_preproc\\probe1\n",
      "\\\\zaru.cortexlab.net\\Subjects\\AV015\\2022-08-01\\2\\ONE_preproc\\probe1\n",
      "\\\\zaru.cortexlab.net\\Subjects\\AV015\\2022-08-01\\3\\ONE_preproc\\probe1\n",
      "\\\\zaru.cortexlab.net\\Subjects\\AV015\\2022-08-01\\4\\ONE_preproc\\probe1\n",
      "\\\\zaru.cortexlab.net\\Subjects\\AV015\\2022-08-01\\5\\ONE_preproc\\probe1\n",
      "\\\\zaru.cortexlab.net\\Subjects\\AV015\\2022-08-01\\6\\ONE_preproc\\probe1\n",
      "\\\\zaru.cortexlab.net\\Subjects\\AV015\\2022-08-02\\1\\ONE_preproc\\probe1\n",
      "\\\\zaru.cortexlab.net\\Subjects\\AV015\\2022-08-02\\2\\ONE_preproc\\probe1\n",
      "\\\\zaru.cortexlab.net\\Subjects\\AV015\\2022-08-02\\3\\ONE_preproc\\probe1\n",
      "\\\\zaru.cortexlab.net\\Subjects\\AV015\\2022-08-02\\4\\ONE_preproc\\probe1\n",
      "\\\\zaru.cortexlab.net\\Subjects\\AV015\\2022-08-02\\5\\ONE_preproc\\probe1\n",
      "\\\\zaru.cortexlab.net\\Subjects\\AV015\\2022-08-02\\6\\ONE_preproc\\probe1\n",
      "\\\\zaru.cortexlab.net\\Subjects\\AV015\\2022-08-03\\1\\ONE_preproc\\probe1\n",
      "\\\\zaru.cortexlab.net\\Subjects\\AV015\\2022-08-03\\2\\ONE_preproc\\probe1\n",
      "\\\\zaru.cortexlab.net\\Subjects\\AV015\\2022-08-03\\3\\ONE_preproc\\probe1\n",
      "\\\\zaru.cortexlab.net\\Subjects\\AV015\\2022-08-03\\4\\ONE_preproc\\probe1\n",
      "\\\\zaru.cortexlab.net\\Subjects\\AV015\\2022-08-03\\5\\ONE_preproc\\probe1\n",
      "\\\\zaru.cortexlab.net\\Subjects\\AV015\\2022-08-03\\6\\ONE_preproc\\probe1\n",
      "\\\\zaru.cortexlab.net\\Subjects\\AV015\\2022-08-03\\7\\ONE_preproc\\probe1\n",
      "\\\\zaru.cortexlab.net\\Subjects\\AV015\\2022-08-04\\5\\ONE_preproc\\probe1\n",
      "\\\\zaru.cortexlab.net\\Subjects\\AV015\\2022-08-04\\6\\ONE_preproc\\probe1\n",
      "\\\\zaru.cortexlab.net\\Subjects\\AV015\\2022-08-04\\7\\ONE_preproc\\probe1\n",
      "\\\\zaru.cortexlab.net\\Subjects\\AV015\\2022-08-04\\8\\ONE_preproc\\probe1\n",
      "\\\\zaru.cortexlab.net\\Subjects\\AV015\\2022-08-04\\9\\ONE_preproc\\probe1\n",
      "\\\\zaru.cortexlab.net\\Subjects\\AV015\\2022-08-04\\10\\ONE_preproc\\probe1\n",
      "\\\\zaru.cortexlab.net\\Subjects\\AV015\\2022-08-05\\1\\ONE_preproc\\probe1\n",
      "\\\\zaru.cortexlab.net\\Subjects\\AV015\\2022-08-05\\2\\ONE_preproc\\probe1\n",
      "\\\\zaru.cortexlab.net\\Subjects\\AV015\\2022-08-05\\3\\ONE_preproc\\probe1\n",
      "\\\\zaru.cortexlab.net\\Subjects\\AV015\\2022-08-05\\4\\ONE_preproc\\probe1\n",
      "\\\\zaru.cortexlab.net\\Subjects\\AV015\\2022-08-05\\5\\ONE_preproc\\probe1\n",
      "\\\\zaru.cortexlab.net\\Subjects\\AV015\\2022-08-05\\7\\ONE_preproc\\probe1\n"
     ]
    }
   ],
   "source": [
    "# get all recordings \n",
    "all_rec_list = queryCSV(subject=r.subject,expDate='postImplant')\n",
    "all_rec_list = all_rec_list.dropna(subset='extractSpikes')\n",
    "all_rec_list = all_rec_list[[rec.extractSpikes[int(probe[-1])*2]=='1' for _,rec in all_rec_list.iterrows()]]\n",
    "# for each recording search for nearest anatmap available \n",
    "anatmap_paths = Path(all_rec_list.iloc[0].expFolder).parents[1]\n",
    "anatmap_paths = anatmap_paths / 'histology/registered_anatmaps'\n",
    "\n",
    "\n",
    "for _,r in all_rec_list.iterrows(): \n",
    "    my_expDate = datetime.datetime.strptime(r.expDate,'%Y-%m-%d')\n",
    "    anatmap_dates = np.array([datetime.datetime.strptime(d.name,'%Y-%m-%d') for d in list(anatmap_paths.iterdir())])\n",
    "    is_probe = np.array([len(list(d.glob('*%s*' % probe)))>0 for d in list(anatmap_paths.iterdir())])\n",
    "    anatmap_dates  = anatmap_dates[is_probe]\n",
    "    timediffs = [abs(d-my_expDate) for d in anatmap_dates]\n",
    "    selected_anatmap_date = anatmap_dates[np.argmin(timediffs)]\n",
    "    selected_anatmaps = list((anatmap_paths / selected_anatmap_date.strftime('%Y-%m-%d')).glob('*%s*.json' % probe))\n",
    "    one_path = Path(r.expFolder)  / 'ONE_preproc' / probe\n",
    "    save_out_cluster_location(one_path,anatmap_paths=selected_anatmaps)"
   ]
  },
  {
   "cell_type": "code",
   "execution_count": 53,
   "id": "1dd15e15",
   "metadata": {},
   "outputs": [
    {
     "data": {
      "text/plain": [
       "WindowsPath('//zinu.cortexlab.net/Subjects/AV007/2022-03-22/3/ONE_preproc/probe1')"
      ]
     },
     "execution_count": 53,
     "metadata": {},
     "output_type": "execute_result"
    }
   ],
   "source": [
    "one_path"
   ]
  },
  {
   "cell_type": "code",
   "execution_count": 48,
   "id": "d4bb9f24",
   "metadata": {},
   "outputs": [
    {
     "name": "stdout",
     "output_type": "stream",
     "text": [
      "\\\\zinu.cortexlab.net\\Subjects\\AV007\\2022-03-22\\1\\ONE_preproc\\probe0\n"
     ]
    }
   ],
   "source": [
    "print(rf\"{one_path}\")"
   ]
  },
  {
   "cell_type": "code",
   "execution_count": 19,
   "id": "20a0a8e6",
   "metadata": {},
   "outputs": [
    {
     "data": {
      "text/plain": [
       "'//zinu.cortexlab.net/Subjects/AV009/2022-02-17/1/ONE_preproc/probe0'"
      ]
     },
     "execution_count": 19,
     "metadata": {},
     "output_type": "execute_result"
    }
   ],
   "source": [
    "one_path.as_posix()"
   ]
  },
  {
   "cell_type": "code",
   "execution_count": null,
   "id": "f2746534",
   "metadata": {},
   "outputs": [],
   "source": []
  }
 ],
 "metadata": {
  "kernelspec": {
   "display_name": "Python 3.9.12 ('iblenv')",
   "language": "python",
   "name": "python3"
  },
  "language_info": {
   "codemirror_mode": {
    "name": "ipython",
    "version": 3
   },
   "file_extension": ".py",
   "mimetype": "text/x-python",
   "name": "python",
   "nbconvert_exporter": "python",
   "pygments_lexer": "ipython3",
   "version": "3.9.12"
  },
  "vscode": {
   "interpreter": {
    "hash": "8f93d2e22c46842035eaf451471a9368b8ad51fc8a4ba57c37c4e69e32446ecd"
   }
  }
 },
 "nbformat": 4,
 "nbformat_minor": 5
}
