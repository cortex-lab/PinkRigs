{
 "cells": [
  {
   "cell_type": "code",
   "execution_count": 1,
   "metadata": {},
   "outputs": [
    {
     "name": "stdout",
     "output_type": "stream",
     "text": [
      "[WindowsPath('//zinu.cortexlab.net/Subjects/AV015/2022-06-30/ephys/AV015_2022-06-30_SpontaneousPart3_g0/AV015_2022-06-30_SpontaneousPart3_g0_imec0/AV015_2022-06-30_SpontaneousPart3_g0_t0.imec0.ap.cbin')]\n",
      "converting data to IBL format ...\n"
     ]
    },
    {
     "name": "stderr",
     "output_type": "stream",
     "text": [
      "Extracting waveforms: 100%|██████████| 687.6668/687.6668 [00:05<00:00, 132.65it/s]\n",
      "Converting to ALF: 145it [00:05, 25.29it/s]                         \n",
      "\u001b[36m2024-08-29 23:46:31.536 INFO     [extract_files.py:82] Computing QC for \\\\zinu.cortexlab.net\\Subjects\\AV015\\2022-06-30\\ephys\\AV015_2022-06-30_SpontaneousPart3_g0\\AV015_2022-06-30_SpontaneousPart3_g0_imec0\\AV015_2022-06-30_SpontaneousPart3_g0_t0.imec0.ap.cbin\u001b[0m\n",
      "6162it [08:37, 11.91it/s]                        \n"
     ]
    },
    {
     "name": "stdout",
     "output_type": "stream",
     "text": [
      "success in saving xyz_picks from track.\n",
      "[WindowsPath('//zinu.cortexlab.net/Subjects/AV015/2022-06-30/ephys/AV015_2022-06-30_SpontaneousPart3_g0/AV015_2022-06-30_SpontaneousPart3_g0_imec1/AV015_2022-06-30_SpontaneousPart3_g0_t0.imec1.ap.cbin')]\n",
      "converting data to IBL format ...\n"
     ]
    },
    {
     "name": "stderr",
     "output_type": "stream",
     "text": [
      "c:\\Users\\Experiment\\.conda\\envs\\iblenv\\lib\\site-packages\\phylib\\io\\model.py:1054: RuntimeWarning: invalid value encountered in true_divide\n",
      "  spikes_depths[ispi] = (np.sum(np.transpose(ypos * features) /\n",
      "Extracting waveforms: 100%|██████████| 687.6668/687.6668 [00:12<00:00, 56.66it/s]\n",
      "Converting to ALF: 145it [00:29,  4.98it/s]                         \n",
      "\u001b[36m2024-08-29 23:55:46.14 INFO     [extract_files.py:82] Computing QC for \\\\zinu.cortexlab.net\\Subjects\\AV015\\2022-06-30\\ephys\\AV015_2022-06-30_SpontaneousPart3_g0\\AV015_2022-06-30_SpontaneousPart3_g0_imec1\\AV015_2022-06-30_SpontaneousPart3_g0_t0.imec1.ap.cbin\u001b[0m\n",
      "6162it [09:00, 11.39it/s]                        "
     ]
    },
    {
     "name": "stdout",
     "output_type": "stream",
     "text": [
      "success in saving xyz_picks from track.\n"
     ]
    },
    {
     "name": "stderr",
     "output_type": "stream",
     "text": [
      "\n"
     ]
    }
   ],
   "source": [
    "import sys,glob\n",
    "from pathlib import Path\n",
    "pinkRig_path= glob.glob(r'C:\\Users\\*\\Documents\\Github\\PinkRigs')\n",
    "pinkRig_path = Path(pinkRig_path[0])\n",
    "sys.path.insert(0, (pinkRig_path.__str__()))\n",
    "\n",
    "from Processing.pykilo.main_ephys import preproc_ephys\n",
    "#funckwargs = {'recompute_errored_sorting':True,'resort': False,'bin_file_extension': 'cbin'}\n",
    "preproc_ephys(func='ibl_anat',subject='AV015', expDate='2022-06-30',expNum=5)"
   ]
  },
  {
   "cell_type": "code",
   "execution_count": null,
   "metadata": {},
   "outputs": [],
   "source": []
  }
 ],
 "metadata": {
  "kernelspec": {
   "display_name": "Python 3 (ipykernel)",
   "language": "python",
   "name": "python3"
  },
  "language_info": {
   "codemirror_mode": {
    "name": "ipython",
    "version": 3
   },
   "file_extension": ".py",
   "mimetype": "text/x-python",
   "name": "python",
   "nbconvert_exporter": "python",
   "pygments_lexer": "ipython3",
   "version": "3.9.12"
  },
  "vscode": {
   "interpreter": {
    "hash": "8f93d2e22c46842035eaf451471a9368b8ad51fc8a4ba57c37c4e69e32446ecd"
   }
  }
 },
 "nbformat": 4,
 "nbformat_minor": 2
}
